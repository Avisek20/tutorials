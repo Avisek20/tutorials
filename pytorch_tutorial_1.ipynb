{
  "nbformat": 4,
  "nbformat_minor": 0,
  "metadata": {
    "colab": {
      "name": "pytorch_tutorial_1.ipynb",
      "provenance": [],
      "collapsed_sections": []
    },
    "kernelspec": {
      "name": "python3",
      "display_name": "Python 3"
    },
    "language_info": {
      "name": "python"
    },
    "accelerator": "GPU"
  },
  "cells": [
    {
      "cell_type": "markdown",
      "metadata": {
        "id": "HIQQ2tvgLSDP"
      },
      "source": [
        "<img src=\"https://drive.google.com/uc?id=1EOzaynFEkpMjE-PWPqllAYWRScW-2YQ0\">"
      ]
    },
    {
      "cell_type": "markdown",
      "metadata": {
        "id": "vXa12UH8FWpz"
      },
      "source": [
        "<br>\n",
        "\n",
        "<hr>\n",
        "\n",
        "<br>\n",
        "\n",
        "<center>\n",
        "\n",
        "<h1> Avisek Gupta </h1>\n",
        "\n",
        "<h1> Indian Statistical Institute, Kolkata </h1>\n",
        "\n",
        "</center>\n",
        "\n",
        "<br>\n",
        "\n",
        "<hr>\n",
        "\n",
        "<br>"
      ]
    },
    {
      "cell_type": "markdown",
      "metadata": {
        "id": "2zy7AXRm8z17"
      },
      "source": [
        "<br>\n",
        "\n",
        "<hr>\n",
        "\n",
        "<br>\n",
        "\n",
        "<center>\n",
        "\n",
        "<h1> Tutorial 1: Working with Tensors in PyTorch </h1>\n",
        "\n",
        "</center>\n",
        "\n",
        "<br>\n",
        "\n",
        "<hr>\n",
        "\n",
        "<br>\n"
      ]
    },
    {
      "cell_type": "code",
      "metadata": {
        "id": "Iu847x-9LXQY"
      },
      "source": [
        "import torch"
      ],
      "execution_count": 1,
      "outputs": []
    },
    {
      "cell_type": "code",
      "metadata": {
        "colab": {
          "base_uri": "https://localhost:8080/"
        },
        "id": "3ucf_PJSMsz_",
        "outputId": "ee081b64-db30-4309-b0ec-8bf8417a7310"
      },
      "source": [
        "print(torch.__version__)"
      ],
      "execution_count": 2,
      "outputs": [
        {
          "output_type": "stream",
          "text": [
            "1.8.1+cu101\n"
          ],
          "name": "stdout"
        }
      ]
    },
    {
      "cell_type": "code",
      "metadata": {
        "colab": {
          "base_uri": "https://localhost:8080/"
        },
        "id": "ZKcPgKEiMxO3",
        "outputId": "10214f1c-eabe-462e-ee10-a704ecdc192d"
      },
      "source": [
        "print(torch.cuda.is_available())"
      ],
      "execution_count": 3,
      "outputs": [
        {
          "output_type": "stream",
          "text": [
            "False\n"
          ],
          "name": "stdout"
        }
      ]
    },
    {
      "cell_type": "markdown",
      "metadata": {
        "id": "-MP5YvghM9g_"
      },
      "source": [
        "<hr>\n",
        "\n",
        "<br>\n",
        "\n",
        "<h2> 1. Different ways of intitializing tensors - </h2>\n"
      ]
    },
    {
      "cell_type": "code",
      "metadata": {
        "colab": {
          "base_uri": "https://localhost:8080/"
        },
        "id": "JhnwpSX1M8fY",
        "outputId": "a443dce1-1d84-4df8-f963-85b409f45f78"
      },
      "source": [
        "# Initialize an empty tensor\n",
        "\n",
        "x = torch.empty(5, 3)\n",
        "print(x)\n"
      ],
      "execution_count": 4,
      "outputs": [
        {
          "output_type": "stream",
          "text": [
            "tensor([[3.8515e-28, 3.0691e-41, 3.3631e-44],\n",
            "        [0.0000e+00,        nan, 2.6908e+20],\n",
            "        [1.1578e+27, 1.1362e+30, 7.1547e+22],\n",
            "        [4.5828e+30, 1.2121e+04, 7.1846e+22],\n",
            "        [9.2198e-39, 7.0374e+22, 1.0128e-28]])\n"
          ],
          "name": "stdout"
        }
      ]
    },
    {
      "cell_type": "code",
      "metadata": {
        "colab": {
          "base_uri": "https://localhost:8080/"
        },
        "id": "dy86GgZtNg18",
        "outputId": "c085f834-3c98-47a1-e0a2-2d64f14e5d4f"
      },
      "source": [
        "# Initialize a zero tensor\n",
        "\n",
        "x = torch.zeros(5, 3, dtype=torch.long)\n",
        "print(x)\n"
      ],
      "execution_count": 5,
      "outputs": [
        {
          "output_type": "stream",
          "text": [
            "tensor([[0, 0, 0],\n",
            "        [0, 0, 0],\n",
            "        [0, 0, 0],\n",
            "        [0, 0, 0],\n",
            "        [0, 0, 0]])\n"
          ],
          "name": "stdout"
        }
      ]
    },
    {
      "cell_type": "code",
      "metadata": {
        "colab": {
          "base_uri": "https://localhost:8080/"
        },
        "id": "W1-vDBeQNaO7",
        "outputId": "4fdaaaf1-924e-45b3-cf7b-48258d00d37c"
      },
      "source": [
        "# Initialize a random tensor\n",
        "\n",
        "x = torch.rand(5, 3)\n",
        "print(x)\n"
      ],
      "execution_count": 6,
      "outputs": [
        {
          "output_type": "stream",
          "text": [
            "tensor([[0.4805, 0.5674, 0.6114],\n",
            "        [0.3374, 0.2846, 0.4141],\n",
            "        [0.5330, 0.1123, 0.6748],\n",
            "        [0.9518, 0.6749, 0.7500],\n",
            "        [0.6629, 0.1617, 0.6080]])\n"
          ],
          "name": "stdout"
        }
      ]
    },
    {
      "cell_type": "code",
      "metadata": {
        "colab": {
          "base_uri": "https://localhost:8080/"
        },
        "id": "Q1-1TyjXNkdj",
        "outputId": "ba1d85a0-ff20-4ac9-c706-988daefc147f"
      },
      "source": [
        "# Initialize a specific tensor\n",
        "\n",
        "x = torch.tensor([5.5, 3])\n",
        "print(x)\n"
      ],
      "execution_count": 7,
      "outputs": [
        {
          "output_type": "stream",
          "text": [
            "tensor([5.5000, 3.0000])\n"
          ],
          "name": "stdout"
        }
      ]
    },
    {
      "cell_type": "code",
      "metadata": {
        "colab": {
          "base_uri": "https://localhost:8080/"
        },
        "id": "t8tisNiWNowy",
        "outputId": "082425ef-faad-4dbd-8df4-15535db83f20"
      },
      "source": [
        "# Create a separate copy an existing tensor using clone\n",
        "\n",
        "x = torch.zeros(2, 3, dtype=torch.long)\n",
        "y = x.clone()\n",
        "x = x + 1\n",
        "print(x)\n",
        "print(y)\n"
      ],
      "execution_count": 8,
      "outputs": [
        {
          "output_type": "stream",
          "text": [
            "tensor([[1, 1, 1],\n",
            "        [1, 1, 1]])\n",
            "tensor([[0, 0, 0],\n",
            "        [0, 0, 0]])\n"
          ],
          "name": "stdout"
        }
      ]
    },
    {
      "cell_type": "code",
      "metadata": {
        "colab": {
          "base_uri": "https://localhost:8080/"
        },
        "id": "HbrpM2BuNrx_",
        "outputId": "cb2db225-4397-4fa4-c6ca-aa4e86b8b891"
      },
      "source": [
        "# Initialize with previous tensor's attributes\n",
        "\n",
        "x = x.new_ones(5, 3, dtype=torch.double)      # new_* methods take in sizes\n",
        "print(x)\n",
        "\n",
        "x = torch.randn_like(x, dtype=torch.float)    # override dtype!\n",
        "print(x)\n"
      ],
      "execution_count": 9,
      "outputs": [
        {
          "output_type": "stream",
          "text": [
            "tensor([[1., 1., 1.],\n",
            "        [1., 1., 1.],\n",
            "        [1., 1., 1.],\n",
            "        [1., 1., 1.],\n",
            "        [1., 1., 1.]], dtype=torch.float64)\n",
            "tensor([[-0.5087,  0.8621, -0.7676],\n",
            "        [ 0.9275,  1.4946, -0.2577],\n",
            "        [-0.4062, -0.6010, -1.6853],\n",
            "        [ 0.3337, -1.1937,  0.6211],\n",
            "        [ 0.4633,  0.1690,  2.7207]])\n"
          ],
          "name": "stdout"
        }
      ]
    },
    {
      "cell_type": "markdown",
      "metadata": {
        "id": "CzLRYoPFNzvX"
      },
      "source": [
        "<hr>\n",
        "\n",
        "<br>\n",
        "\n",
        "<h2> 2. Different ways of adding two vectors - </h2>\n"
      ]
    },
    {
      "cell_type": "code",
      "metadata": {
        "colab": {
          "base_uri": "https://localhost:8080/"
        },
        "id": "T1K2E-bGN0m-",
        "outputId": "dd1645f4-6765-4286-dfee-99816c9ef26e"
      },
      "source": [
        "y = torch.rand(5, 3)\n",
        "\n",
        "print(x + y)\n",
        "\n",
        "print(torch.add(x, y))\n",
        "\n",
        "result = torch.empty(5, 3)\n",
        "torch.add(x, y, out=result)\n",
        "print(result)\n",
        "\n",
        "y.add_(x)\n",
        "print(y)\n"
      ],
      "execution_count": 10,
      "outputs": [
        {
          "output_type": "stream",
          "text": [
            "tensor([[ 0.2997,  1.2734, -0.6246],\n",
            "        [ 1.1735,  2.1222,  0.6334],\n",
            "        [-0.0203,  0.0986, -1.4308],\n",
            "        [ 1.2026, -0.2370,  0.9991],\n",
            "        [ 0.5754,  0.5744,  3.2674]])\n",
            "tensor([[ 0.2997,  1.2734, -0.6246],\n",
            "        [ 1.1735,  2.1222,  0.6334],\n",
            "        [-0.0203,  0.0986, -1.4308],\n",
            "        [ 1.2026, -0.2370,  0.9991],\n",
            "        [ 0.5754,  0.5744,  3.2674]])\n",
            "tensor([[ 0.2997,  1.2734, -0.6246],\n",
            "        [ 1.1735,  2.1222,  0.6334],\n",
            "        [-0.0203,  0.0986, -1.4308],\n",
            "        [ 1.2026, -0.2370,  0.9991],\n",
            "        [ 0.5754,  0.5744,  3.2674]])\n",
            "tensor([[ 0.2997,  1.2734, -0.6246],\n",
            "        [ 1.1735,  2.1222,  0.6334],\n",
            "        [-0.0203,  0.0986, -1.4308],\n",
            "        [ 1.2026, -0.2370,  0.9991],\n",
            "        [ 0.5754,  0.5744,  3.2674]])\n"
          ],
          "name": "stdout"
        }
      ]
    },
    {
      "cell_type": "markdown",
      "metadata": {
        "id": "R1pktO8GN9Ee"
      },
      "source": [
        "<hr>\n",
        "\n",
        "<br>\n",
        "\n",
        "<h2> 3. General Tensor operations - </h2>"
      ]
    },
    {
      "cell_type": "code",
      "metadata": {
        "colab": {
          "base_uri": "https://localhost:8080/"
        },
        "id": "mKZMlY7zN3gm",
        "outputId": "871f52c7-abdd-4616-c08e-927400453264"
      },
      "source": [
        "# Get tensor size\n",
        "\n",
        "print(x.size())\n",
        "\n",
        "print(x.size(0), x.size()[1])\n"
      ],
      "execution_count": 11,
      "outputs": [
        {
          "output_type": "stream",
          "text": [
            "torch.Size([5, 3])\n",
            "5 3\n"
          ],
          "name": "stdout"
        }
      ]
    },
    {
      "cell_type": "code",
      "metadata": {
        "colab": {
          "base_uri": "https://localhost:8080/"
        },
        "id": "u_RqvEX1OAVO",
        "outputId": "0b5ad80c-136b-4ed1-8617-9570d79cc97e"
      },
      "source": [
        "# Get slice of a tensor\n",
        "\n",
        "print(x[:, 1])\n"
      ],
      "execution_count": 12,
      "outputs": [
        {
          "output_type": "stream",
          "text": [
            "tensor([ 0.8621,  1.4946, -0.6010, -1.1937,  0.1690])\n"
          ],
          "name": "stdout"
        }
      ]
    },
    {
      "cell_type": "code",
      "metadata": {
        "colab": {
          "base_uri": "https://localhost:8080/"
        },
        "id": "TKPQXR3IOCd3",
        "outputId": "4a8399fa-1928-4f04-b01a-c65b635d9f8a"
      },
      "source": [
        "# Resize a tensor (i.e., change the view)\n",
        "\n",
        "x = torch.randn(4, 4)\n",
        "y = x.view(16)\n",
        "z = x.view(-1, 8)  # the size -1 is inferred from other dimensions\n",
        "print(x.size(), y.size(), z.size())\n"
      ],
      "execution_count": 13,
      "outputs": [
        {
          "output_type": "stream",
          "text": [
            "torch.Size([4, 4]) torch.Size([16]) torch.Size([2, 8])\n"
          ],
          "name": "stdout"
        }
      ]
    },
    {
      "cell_type": "code",
      "metadata": {
        "colab": {
          "base_uri": "https://localhost:8080/"
        },
        "id": "0Er8arJxOEYv",
        "outputId": "fd2d4c29-4677-4d09-d937-1a281e6b1f72"
      },
      "source": [
        "# Get a single scalar from a tensor\n",
        "\n",
        "x = torch.randn(1)\n",
        "print(x)\n",
        "print(x.item())\n"
      ],
      "execution_count": 14,
      "outputs": [
        {
          "output_type": "stream",
          "text": [
            "tensor([0.0680])\n",
            "0.06802535057067871\n"
          ],
          "name": "stdout"
        }
      ]
    },
    {
      "cell_type": "markdown",
      "metadata": {
        "id": "6JzU1xUnOKeI"
      },
      "source": [
        "<hr>\n",
        "\n",
        "<br>\n",
        "\n",
        "<h2> 4. Converting Tensors from Torch to Numpy Arrays, and back - </h2>\n"
      ]
    },
    {
      "cell_type": "code",
      "metadata": {
        "colab": {
          "base_uri": "https://localhost:8080/"
        },
        "id": "DMSsAFWJOGge",
        "outputId": "8fc9b8cd-178c-42d7-e74c-dc2aff12780f"
      },
      "source": [
        "a = torch.ones(5)\n",
        "print(a)\n",
        "\n",
        "# Converting to a numpy array (uses the same memory location if on CPU)\n",
        "b = a.numpy()\n",
        "print(b)\n",
        "\n",
        "a.add_(1)\n",
        "print(a)\n",
        "print(b)\n"
      ],
      "execution_count": 15,
      "outputs": [
        {
          "output_type": "stream",
          "text": [
            "tensor([1., 1., 1., 1., 1.])\n",
            "[1. 1. 1. 1. 1.]\n",
            "tensor([2., 2., 2., 2., 2.])\n",
            "[2. 2. 2. 2. 2.]\n"
          ],
          "name": "stdout"
        }
      ]
    },
    {
      "cell_type": "code",
      "metadata": {
        "colab": {
          "base_uri": "https://localhost:8080/"
        },
        "id": "8hv2Ox3cONC3",
        "outputId": "e3f8ed00-44c6-4498-ffa4-c29332c76bcb"
      },
      "source": [
        "import numpy as np\n",
        "\n",
        "a = np.ones(5)\n",
        "b = torch.from_numpy(a)  # Uses the same memory location (if on CPU)\n",
        "np.add(a, 1, out=a)\n",
        "\n",
        "print(a)\n",
        "print(b)\n"
      ],
      "execution_count": 16,
      "outputs": [
        {
          "output_type": "stream",
          "text": [
            "[2. 2. 2. 2. 2.]\n",
            "tensor([2., 2., 2., 2., 2.], dtype=torch.float64)\n"
          ],
          "name": "stdout"
        }
      ]
    },
    {
      "cell_type": "markdown",
      "metadata": {
        "id": "fiaq3Ht-ORwB"
      },
      "source": [
        "<hr>\n",
        "\n",
        "<br>\n",
        "\n",
        "<h2> 5. Running code on the CUDA device - </h2>"
      ]
    },
    {
      "cell_type": "code",
      "metadata": {
        "colab": {
          "base_uri": "https://localhost:8080/"
        },
        "id": "CMX0Lp_-B6kR",
        "outputId": "5d572bb7-f87f-4ac6-9d8d-55ecdc2901df"
      },
      "source": [
        "import torch\n",
        "print(torch.__version__)\n",
        "print(torch.cuda.is_available())\n"
      ],
      "execution_count": 1,
      "outputs": [
        {
          "output_type": "stream",
          "text": [
            "1.8.1+cu101\n",
            "True\n"
          ],
          "name": "stdout"
        }
      ]
    },
    {
      "cell_type": "code",
      "metadata": {
        "colab": {
          "base_uri": "https://localhost:8080/"
        },
        "id": "JaqqhLkvOPJo",
        "outputId": "fd5b0498-edf8-4dc9-f155-6f342722dea5"
      },
      "source": [
        "if torch.cuda.is_available():\n",
        "    device = torch.device(\"cuda\")\n",
        "    x = torch.rand(5, 3)\n",
        "    y = torch.ones_like(x, device=device)  # directly create a tensor on GPU\n",
        "    x = x.to(device)\n",
        "    z = x + y\n",
        "    print(z)\n",
        "    print(z.to(\"cpu\"))\n",
        "    "
      ],
      "execution_count": 2,
      "outputs": [
        {
          "output_type": "stream",
          "text": [
            "tensor([[1.6030, 1.0554, 1.8243],\n",
            "        [1.6876, 1.5408, 1.2670],\n",
            "        [1.8411, 1.4868, 1.9681],\n",
            "        [1.8510, 1.2308, 1.2255],\n",
            "        [1.7303, 1.8777, 1.6621]], device='cuda:0')\n",
            "tensor([[1.6030, 1.0554, 1.8243],\n",
            "        [1.6876, 1.5408, 1.2670],\n",
            "        [1.8411, 1.4868, 1.9681],\n",
            "        [1.8510, 1.2308, 1.2255],\n",
            "        [1.7303, 1.8777, 1.6621]])\n"
          ],
          "name": "stdout"
        }
      ]
    },
    {
      "cell_type": "code",
      "metadata": {
        "colab": {
          "base_uri": "https://localhost:8080/"
        },
        "id": "NJT3rVW2OSwn",
        "outputId": "8030b115-ca51-4b71-84af-ca4f9691e3d7"
      },
      "source": [
        "# If available, run on the GPU, else run on the CPU\n",
        "device = torch.device(\"cuda:0\" if torch.cuda.is_available() else \"cpu\")\n",
        "y = torch.ones_like(x, device=device)\n",
        "x = x.to(device)\n",
        "z = x + y\n",
        "print(z)\n"
      ],
      "execution_count": 3,
      "outputs": [
        {
          "output_type": "stream",
          "text": [
            "tensor([[1.6030, 1.0554, 1.8243],\n",
            "        [1.6876, 1.5408, 1.2670],\n",
            "        [1.8411, 1.4868, 1.9681],\n",
            "        [1.8510, 1.2308, 1.2255],\n",
            "        [1.7303, 1.8777, 1.6621]], device='cuda:0')\n"
          ],
          "name": "stdout"
        }
      ]
    },
    {
      "cell_type": "markdown",
      "metadata": {
        "id": "afGtP5lBOcw1"
      },
      "source": [
        "<hr>\n",
        "\n",
        "<br>\n",
        "\n",
        "<h2> Recap: </h2>\n",
        "\n",
        "<h2> 1. Different ways of intitializing tensors </h2>\n",
        "\n",
        "<h2> 2. Different ways of performing an operation between two vectors </h2>\n",
        "\n",
        "<h2> 3. General Tensor operations </h2>\n",
        "\n",
        "<h2> 4. Converting Tensors from Torch to Numpy Arrays, and back </h2>\n",
        "\n",
        "<h2> 5. Running PyTorch on the CUDA device </h2>\n",
        "\n",
        "<br>\n",
        "\n",
        "<hr>\n",
        "\n",
        "<br>\n",
        "\n",
        "<h2> References: </h2>\n",
        "\n",
        "<ul>\n",
        "    <br>\n",
        "    <li> <h2> <a href=\"https://pytorch.org/tutorials/beginner/basics/tensorqs_tutorial.html\"> PyTorch Tutorial on Tensors </a> </h2> </li>\n",
        "    <br>\n",
        "    <li> <h2> <a href=\"https://pytorch.org/tutorials/\"> The PyTorch Documentation </a> </h2> </li>\n",
        "</ul>\n",
        "\n",
        "<br>"
      ]
    }
  ]
}